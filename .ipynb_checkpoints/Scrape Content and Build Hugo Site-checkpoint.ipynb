{
 "cells": [
  {
   "cell_type": "markdown",
   "metadata": {},
   "source": [
    "# Scrap Content and Build a Hugo Site"
   ]
  },
  {
   "cell_type": "markdown",
   "metadata": {},
   "source": [
    "### Steps\n",
    "* Setup and Helper Functions\n",
    "* Import the Site Data from a CSV\n",
    "* For Each Site for teaser content, scrape the data (Title, Price and Url to the more information page)\n",
    "* Combine all the site data into a data frame\n",
    "* Export this data to a json and csv file for use on the hugo site and other projects (Drupal Import )\n",
    "* Build the hugo site"
   ]
  },
  {
   "cell_type": "markdown",
   "metadata": {},
   "source": []
  },
  {
   "cell_type": "markdown",
   "metadata": {},
   "source": [
    "## Setup and Helper Functions"
   ]
  },
  {
   "cell_type": "markdown",
   "metadata": {},
   "source": [
    "### Import the neccesary python modules"
   ]
  },
  {
   "cell_type": "code",
   "execution_count": 149,
   "metadata": {},
   "outputs": [],
   "source": [
    "import requests\n",
    "from bs4 import BeautifulSoup\n",
    "import pandas as pd\n",
    "from datetime import datetime\n",
    "import re\n",
    "import hashlib\n",
    "import subprocess"
   ]
  },
  {
   "cell_type": "markdown",
   "metadata": {},
   "source": [
    "### Variable Setup"
   ]
  },
  {
   "cell_type": "code",
   "execution_count": 150,
   "metadata": {},
   "outputs": [],
   "source": [
    "timestamp_full = datetime.today().strftime('%Y-%m-%d-%H:%M:')\n",
    "timestamp_day  = datetime.today().strftime('%Y-%m-%d')\n",
    "\n",
    "# Site Import Data\n",
    "site_data_file = 'importfiles/sitedata.csv'\n",
    "site_data_df = pd.DataFrame(columns=[\"company\",\"site\", \"collection\"])\n",
    "\n",
    "# Site Scrape Data\n"
   ]
  },
  {
   "cell_type": "markdown",
   "metadata": {},
   "source": [
    "### Standard Helper Functions"
   ]
  },
  {
   "cell_type": "code",
   "execution_count": 151,
   "metadata": {},
   "outputs": [],
   "source": [
    "# Log processing commands to see where a site may have failed\n",
    "def log_processing(url):\n",
    "    print('  ---> processing ' + url)\n",
    "\n",
    "# Pull out everything but numbers and letters from the imported string\n",
    "def returnNumbersAndLettersOnly(oldString):\n",
    "    newString = ''.join(e for e in oldString if e.isalnum())\n",
    "    return newString\n",
    "\n",
    "# Pull out everything but numbers from the imported string\n",
    "def returnNumbersOnly(oldString):\n",
    "    newString = ''.join(e for e in oldString if e.isdigit())\n",
    "    return newString\n",
    "\n",
    "# Set default headers for call\n",
    "# Testing out calls \n",
    "def getHeadersObject(url):    \n",
    "    headers = {\n",
    "        'User-Agent': \"PostmanRuntime/7.18.0\",\n",
    "        'Accept': \"*/*\",\n",
    "        'Cache-Control': \"no-cache\",\n",
    "        'Accept-Encoding': \"gzip, deflate\",\n",
    "        'Referer': url,\n",
    "        'Connection': \"keep-alive\",\n",
    "        'cache-control': \"no-cache\"\n",
    "    }    \n",
    "    return headers\n",
    "    \n",
    "# Get the index of an item and handle the exception where the index does not exist and set to empty\n",
    "def pop(item,index):\n",
    "\n",
    "    try:\n",
    "        return item[index]\n",
    "    except IndexError:\n",
    "        return 'null'  \n",
    "        \n",
    "    return breakout"
   ]
  },
  {
   "cell_type": "markdown",
   "metadata": {},
   "source": [
    "### Custom Functions"
   ]
  },
  {
   "cell_type": "code",
   "execution_count": null,
   "metadata": {},
   "outputs": [],
   "source": []
  },
  {
   "cell_type": "markdown",
   "metadata": {},
   "source": [
    "## Scrape Example Functions"
   ]
  },
  {
   "cell_type": "code",
   "execution_count": 183,
   "metadata": {},
   "outputs": [],
   "source": [
    "def scrapeTeaserDataFromCollection(url,site):\n",
    "\n",
    "    site_scraped_data_df_temp = pd.DataFrame(columns=[\"site\",\"title\", \"url\",\"price\"])    \n",
    "    soup = BeautifulSoup(requests.get(url).text, 'html.parser')\n",
    "    resultsRow = soup.find_all('article', {'class': 'box-info'})  \n",
    "   \n",
    "    for resultRow in resultsRow:\n",
    "        resultRowBreakdown = resultRow.find('p', {'class': 'text-info'}).text.split('\\n')\n",
    "        try:\n",
    "            site_scraped_data_df_temp = site_scraped_data_df_temp.append(\n",
    "                {\n",
    "                    'site':site,\n",
    "                    'title':pop(resultRowBreakdown,0),\n",
    "                    'price':returnNumbersOnly(pop(resultRowBreakdown,2)),\n",
    "                    'url':resultRow.find('a').get('href')\n",
    "                }\n",
    "            , ignore_index=True)\n",
    "        except IndexError as e:\n",
    "            gotdata = '' \n",
    "        \n",
    "    return site_scraped_data_df_temp\n",
    "       \n",
    " "
   ]
  },
  {
   "cell_type": "markdown",
   "metadata": {},
   "source": [
    "### Import the site data"
   ]
  },
  {
   "cell_type": "code",
   "execution_count": 184,
   "metadata": {},
   "outputs": [
    {
     "data": {
      "text/html": [
       "<div>\n",
       "<style scoped>\n",
       "    .dataframe tbody tr th:only-of-type {\n",
       "        vertical-align: middle;\n",
       "    }\n",
       "\n",
       "    .dataframe tbody tr th {\n",
       "        vertical-align: top;\n",
       "    }\n",
       "\n",
       "    .dataframe thead th {\n",
       "        text-align: right;\n",
       "    }\n",
       "</style>\n",
       "<table border=\"1\" class=\"dataframe\">\n",
       "  <thead>\n",
       "    <tr style=\"text-align: right;\">\n",
       "      <th></th>\n",
       "      <th>company</th>\n",
       "      <th>site</th>\n",
       "      <th>collection</th>\n",
       "    </tr>\n",
       "  </thead>\n",
       "  <tbody>\n",
       "    <tr>\n",
       "      <th>0</th>\n",
       "      <td>Peru For Less</td>\n",
       "      <td>https://www.peruforless.com</td>\n",
       "      <td>https://www.peruforless.com/packages/</td>\n",
       "    </tr>\n",
       "    <tr>\n",
       "      <th>1</th>\n",
       "      <td>Peru Vacation Tours</td>\n",
       "      <td>https://www.peruvacationtours.com</td>\n",
       "      <td>https://www.peruvacationtours.com/peru-tour-pa...</td>\n",
       "    </tr>\n",
       "  </tbody>\n",
       "</table>\n",
       "</div>"
      ],
      "text/plain": [
       "               company                               site  \\\n",
       "0        Peru For Less        https://www.peruforless.com   \n",
       "1  Peru Vacation Tours  https://www.peruvacationtours.com   \n",
       "\n",
       "                                          collection  \n",
       "0              https://www.peruforless.com/packages/  \n",
       "1  https://www.peruvacationtours.com/peru-tour-pa...  "
      ]
     },
     "execution_count": 184,
     "metadata": {},
     "output_type": "execute_result"
    }
   ],
   "source": [
    "#\n",
    "site_data_df = pd.read_csv(site_data_file)\n",
    "site_data_df"
   ]
  },
  {
   "cell_type": "markdown",
   "metadata": {},
   "source": [
    "## Scrape Pages"
   ]
  },
  {
   "cell_type": "code",
   "execution_count": 185,
   "metadata": {},
   "outputs": [
    {
     "name": "stdout",
     "output_type": "stream",
     "text": [
      "  ---> processing Peru For Less\n",
      "  ---> processing Peru Vacation Tours\n",
      "             site                                              title  \\\n",
      "0   Peru For Less                Machu Picchu, Cusco, Sacred Valley    \n",
      "1   Peru For Less                Machu Picchu, Cusco, Sacred Valley    \n",
      "2   Peru For Less                   Inca Trail, Machu Picchu, Cusco    \n",
      "3   Peru For Less  Machu Picchu, Cusco, Titicaca, Puno, Arequipa,...   \n",
      "4   Peru For Less      Machu Picchu, Cusco, Amazon, Arequipa, Colca    \n",
      "5   Peru For Less  Machu Picchu, Cusco, Lima, Arequipa & Colca, P...   \n",
      "6   Peru For Less  Machu Picchu, Cusco, Titicaca, Amazon, Lima, P...   \n",
      "7   Peru For Less  Machu Picchu, Cusco, Sacred Valley, Galapagos ...   \n",
      "8   Peru For Less  Machu Picchu, Iguazu, Rio de Janeiro, Buenos A...   \n",
      "9   Peru For Less  Machu Picchu, Cusco, Sacred Valley, Puno & Lak...   \n",
      "10  Peru For Less        Machu Picchu, Cusco, Sacred Valley, Amazon    \n",
      "11  Peru For Less    Cusco, Machu Picchu, Titicaca, La Paz, & Uyuni    \n",
      "12  Peru For Less             Amazon, Cusco, Machu Picchu, Titicaca    \n",
      "13  Peru For Less  Machu Picchu, Cusco, Sacred Valley, Lima, Chic...   \n",
      "14  Peru For Less                Machu Picchu, Cusco, Sacred Valley    \n",
      "15  Peru For Less                Machu Picchu, Cusco, Sacred Valley    \n",
      "16  Peru For Less                     Classic Route to Machu Picchu    \n",
      "17  Peru For Less                       Short Route to Machu Picchu    \n",
      "18  Peru For Less                    From Salkantay to Machu Picchu    \n",
      "19  Peru For Less  Journey Through the Lares Valley to Machu Picchu    \n",
      "20  Peru For Less         Trek to Machu Picchu in Comfort and Style    \n",
      "21  Peru For Less                 Trek the Magical Vilcabamba Range    \n",
      "22  Peru For Less                   Trek to Two Great Inca Citadels    \n",
      "23  Peru For Less                        Trek to Huchuy Qosqo Ruins    \n",
      "24  Peru For Less                        Trek to Huchuy Qosqo Ruins    \n",
      "25  Peru For Less                              Trek to Chacan Ruins    \n",
      "26  Peru For Less              Trek the Most Sacred Andean Mountain    \n",
      "27  Peru For Less      Trek Across the Magnificent Vilcabamba Range    \n",
      "28  Peru For Less                Trek to the Incas' Last Stronghold    \n",
      "29  Peru For Less                                 Galapagos Islands    \n",
      "30  Peru For Less                           Quito, Galapagos Cruise    \n",
      "31  Peru For Less                          Galapagos Cruise, Amazon    \n",
      "32  Peru For Less                   Quito, Cuenca, Galapagos Cruise    \n",
      "\n",
      "                                                  url price  \n",
      "0   https://www.peruforless.com/packages/machu-pic...  1109  \n",
      "1   https://www.peruforless.com/packages/peru-pack...   869  \n",
      "2   https://www.peruforless.com/packages/inca-trai...  1779  \n",
      "3   https://www.peruforless.com/packages/arequipa-...  1939  \n",
      "4   https://www.peruforless.com/packages/arequipa-...  2229  \n",
      "5   https://www.peruforless.com/packages/lima-para...  2479  \n",
      "6   https://www.peruforless.com/packages/lima-nazc...  3559  \n",
      "7   https://www.peruforless.com/packages/cusco-mac...  5499  \n",
      "8   https://www.peruforless.com/packages/rio-bueno...  2509  \n",
      "9   https://www.peruforless.com/packages/cusco-sac...  1499  \n",
      "10  https://www.peruforless.com/packages/cusco-mac...  1719  \n",
      "11  https://www.peruforless.com/packages/machu-pic...  3989  \n",
      "12  https://www.peruforless.com/packages/amazon-sa...  2109  \n",
      "13  https://www.peruforless.com/packages/lima-chic...  2549  \n",
      "14  https://www.peruforless.com/packages/cusco-sac...  1979  \n",
      "15  https://www.peruforless.com/packages/machu-pic...  1369  \n",
      "16  https://www.peruforless.com/packages/trekking-...   959  \n",
      "17  https://www.peruforless.com/packages/trekking-...   689  \n",
      "18  https://www.peruforless.com/packages/trekking-...        \n",
      "19  https://www.peruforless.com/packages/trekking-...        \n",
      "20  https://www.peruforless.com/packages/trekking-...        \n",
      "21  https://www.peruforless.com/packages/trekking-...        \n",
      "22  https://www.peruforless.com/packages/trekking-...        \n",
      "23  https://www.peruforless.com/packages/trekking-...        \n",
      "24  https://www.peruforless.com/packages/trekking-...        \n",
      "25  https://www.peruforless.com/packages/trekking-...        \n",
      "26  https://www.peruforless.com/packages/trekking-...        \n",
      "27  https://www.peruforless.com/packages/trekking-...        \n",
      "28  https://www.peruforless.com/packages/trekking-...        \n",
      "29  https://www.peruforless.com/packages/galapagos...  2579  \n",
      "30  https://www.peruforless.com/packages/quito-gal...  3549  \n",
      "31  https://www.peruforless.com/packages/galapagos...  4119  \n",
      "32  https://www.peruforless.com/packages/quito-cue...  4099  \n"
     ]
    }
   ],
   "source": [
    "site_scraped_data_df = pd.DataFrame(columns=[\"site\",\"title\", \"url\",\"price\"])\n",
    "\n",
    "#Go Through All Sites and Scrape the Appropriate Data\n",
    "\n",
    "for index, row in site_data_df.iterrows():\n",
    "    log_processing(row['company'])\n",
    "    site_scraped_data_df = site_scraped_data_df.append(scrapeTeaserDataFromCollection(row['collection'],row['company']), ignore_index=True)\n",
    "    #site_scraped_data_df.append(site_scraped_data_df_temp, ignore_index=False, verify_integrity=False, sort=None)\n",
    "    #print(site_scraped_data_df)\n",
    "    \n",
    "    \n",
    "print(site_scraped_data_df)"
   ]
  },
  {
   "cell_type": "code",
   "execution_count": null,
   "metadata": {},
   "outputs": [],
   "source": []
  }
 ],
 "metadata": {
  "kernelspec": {
   "display_name": "Python 3",
   "language": "python",
   "name": "python3"
  },
  "language_info": {
   "codemirror_mode": {
    "name": "ipython",
    "version": 3
   },
   "file_extension": ".py",
   "mimetype": "text/x-python",
   "name": "python",
   "nbconvert_exporter": "python",
   "pygments_lexer": "ipython3",
   "version": "3.7.2"
  }
 },
 "nbformat": 4,
 "nbformat_minor": 2
}
